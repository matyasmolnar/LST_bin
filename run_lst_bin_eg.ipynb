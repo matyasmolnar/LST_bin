{
 "cells": [
  {
   "cell_type": "code",
   "execution_count": null,
   "metadata": {},
   "outputs": [],
   "source": [
    "import os\n",
    "import pickle\n",
    "\n",
    "import hera_cal"
   ]
  },
  {
   "cell_type": "code",
   "execution_count": null,
   "metadata": {},
   "outputs": [],
   "source": [
    "# check location of hera_cal module\n",
    "print(hera_cal.__file__)"
   ]
  },
  {
   "cell_type": "code",
   "execution_count": null,
   "metadata": {},
   "outputs": [],
   "source": [
    "# checking wich branch we're working on\n",
    "\n",
    "os.chdir('/lustre/aoc/projects/hera/mmolnar/LST_bin/hera_cal')\n",
    "!git branch"
   ]
  },
  {
   "cell_type": "code",
   "execution_count": null,
   "metadata": {},
   "outputs": [],
   "source": [
    "os.chdir('/lustre/aoc/projects/hera/mmolnar/LST_bin')"
   ]
  },
  {
   "cell_type": "markdown",
   "metadata": {},
   "source": [
    "Run example lstbin script below"
   ]
  },
  {
   "cell_type": "code",
   "execution_count": null,
   "metadata": {},
   "outputs": [],
   "source": [
    "# !zsh lstbin_run_eg.sh"
   ]
  },
  {
   "cell_type": "markdown",
   "metadata": {},
   "source": [
    "## Read test no_avg files"
   ]
  },
  {
   "cell_type": "code",
   "execution_count": null,
   "metadata": {},
   "outputs": [],
   "source": [
    "save_dir = '/lustre/aoc/projects/hera/mmolnar/LST_bin/binned_files/'\n",
    "pkl_fn = os.path.join(save_dir, 'zen.test.grp1.of1.LST.1.54887.HH.OCRSL.uvh5.lst.pkl')\n",
    "with open(pkl_fn, 'rb') as f:\n",
    "    x = pickle.load(f)"
   ]
  },
  {
   "cell_type": "markdown",
   "metadata": {},
   "source": [
    "## Reading MAD-Clip flags"
   ]
  },
  {
   "cell_type": "code",
   "execution_count": null,
   "metadata": {},
   "outputs": [],
   "source": [
    "import lzma\n",
    "import pickle\n",
    "import sys\n",
    "from collections import OrderedDict as odict\n",
    "\n",
    "import pandas as pd"
   ]
  },
  {
   "cell_type": "code",
   "execution_count": null,
   "metadata": {},
   "outputs": [],
   "source": [
    "sys.path.insert(1, '/lustre/aoc/projects/hera/mmolnar/simpleredcal')\n",
    "\n",
    "from align_utils import idr2_jdsx"
   ]
  },
  {
   "cell_type": "code",
   "execution_count": null,
   "metadata": {},
   "outputs": [],
   "source": [
    "clipped_flags = '/lustre/aoc/projects/hera/mmolnar/LST_bin/binned_files/lstb_mad_flags/zen.grp1.of1.LST.1.31552.bad_jds.pkl'\n",
    "with open(clipped_flags, \"rb\") as f:\n",
    "    clip_f = pickle.load(f)"
   ]
  },
  {
   "cell_type": "code",
   "execution_count": null,
   "metadata": {},
   "outputs": [],
   "source": [
    "# Creating a odict of flags\n",
    "clip_f_copy = {k: v for k, v in clip_f.items()}\n",
    "new_flags = odict()\n",
    "for k, v in clip_f_copy.items():\n",
    "    bl_flags = odict()\n",
    "    for t, f in v.items():\n",
    "        # De-bin data\n",
    "        bl_flags[t*2] = f[::2]\n",
    "        bl_flags[t*2 + 1] = f[1::2]\n",
    "    new_flags[k] = bl_flags"
   ]
  },
  {
   "cell_type": "code",
   "execution_count": null,
   "metadata": {},
   "outputs": [],
   "source": [
    "new_flags_fn = clipped_flags.replace('zen.grp1.of1.LST', 'clipped_flags').replace('bad_jds.', '')\n",
    "\n",
    "if not os.path.exists(new_flags_fn):\n",
    "    with open(new_flags_fn, 'wb') as f:\n",
    "        pickle.dump(new_flags, f, protocol=pickle.HIGHEST_PROTOCOL)"
   ]
  },
  {
   "cell_type": "code",
   "execution_count": null,
   "metadata": {},
   "outputs": [],
   "source": [
    "# Compressing the pickled file using the \n",
    "# Lempel–Ziv–Markov chain algorithm (LZMA) algorithm\n",
    "\n",
    "new_flags_zx_fn = new_flags_fn.replace('pkl', 'xz')\n",
    "\n",
    "if not os.path.exists(new_flags_zx_fn):\n",
    "    with lzma.open(new_flags_zx_fn, 'wb') as f:\n",
    "        pickle.dump(new_flags, f, protocol=pickle.HIGHEST_PROTOCOL)"
   ]
  },
  {
   "cell_type": "code",
   "execution_count": null,
   "metadata": {},
   "outputs": [],
   "source": [
    "# # Reading back LZMA file\n",
    "# with lzma.open(new_flags_zx_fn, 'rb') as file:\n",
    "#     raw_data = file.read()\n",
    "#     xz_flags = pickle.loads(raw_data)"
   ]
  },
  {
   "cell_type": "markdown",
   "metadata": {},
   "source": [
    "## Reading LST-Binned file"
   ]
  },
  {
   "cell_type": "code",
   "execution_count": null,
   "metadata": {},
   "outputs": [],
   "source": [
    "import numpy as np\n",
    "\n",
    "from hera_cal.io import HERAData\n",
    "\n",
    "from red_likelihood import group_data\n",
    "from xd_utils import union_bad_ants"
   ]
  },
  {
   "cell_type": "code",
   "execution_count": null,
   "metadata": {},
   "outputs": [],
   "source": [
    "test_uv = '/lustre/aoc/projects/hera/H1C_IDR2/IDR2_2/LSTBIN/one_group/grp1/zen.grp1.of1.LST.1.31552.HH.OCRSL.uvh5'\n",
    "test_chans = np.arange(600, 605)\n",
    "hd = HERAData(test_uv)"
   ]
  },
  {
   "cell_type": "code",
   "execution_count": null,
   "metadata": {},
   "outputs": [],
   "source": [
    "data, flags, _ = hd.read(freq_chans=test_chans, polarizations=['ee'])"
   ]
  },
  {
   "cell_type": "code",
   "execution_count": null,
   "metadata": {},
   "outputs": [],
   "source": [
    "_, redg, cdata = group_data(test_uv, 'ee', chans=test_chans, tints=None, bad_ants=union_bad_ants(idr2_jdsx))\n",
    "flags_binned = cdata.mask"
   ]
  },
  {
   "cell_type": "markdown",
   "metadata": {},
   "source": [
    "## Updating flags in lstbin.py\n",
    "\n",
    "Code to transplant into lstbin.py. Done in the apply_xd_flags branch; not reusable yet - look into saving to UVFlag object"
   ]
  },
  {
   "cell_type": "code",
   "execution_count": null,
   "metadata": {},
   "outputs": [],
   "source": [
    "import pickle\n",
    "import os\n",
    "import sys\n",
    "from collections import OrderedDict as odict\n",
    "\n",
    "import math\n",
    "import numpy as np\n",
    "\n",
    "from hera_cal.datacontainer import DataContainer\n",
    "from hera_cal import io\n",
    "\n",
    "sys.path.insert(1, '/lustre/aoc/projects/hera/mmolnar/simpleredcal')\n",
    "from align_utils import idr2_jdsx\n",
    "from red_utils import find_nearest, find_zen_file"
   ]
  },
  {
   "cell_type": "code",
   "execution_count": null,
   "metadata": {},
   "outputs": [],
   "source": [
    "simpleredcal_path = '/lustre/aoc/projects/hera/mmolnar/simpleredcal'\n",
    "# tot_flags_fn = 'b2f2_tot_flags.npz'\n",
    "# tot_flags = np.load(os.path.join(simpleredcal_path, tot_flags_fn))['flags']\n",
    "\n",
    "modz_fn = 'b2f2_mz_flags.npz'\n",
    "modz_flags = np.load(os.path.join(simpleredcal_path, modz_fn))['simga5']\n",
    "tot_flags = modz_flags\n",
    "\n",
    "jd_label_dict = np.load(os.path.join(simpleredcal_path, 'b2f2_jd_dict.npz'), \\\n",
    "                        allow_pickle=True)['jd_dict'].item()\n",
    "\n",
    "xd_dir_path = '/lustre/aoc/projects/hera/mmolnar/simpleredcal/xd_rel_dfs_nn'\n",
    "with open(os.path.join(xd_dir_path, 'xd_rel_df.1.1477.ee.md.pkl'), 'rb') as f:\n",
    "    md = pickle.load(f)\n",
    "RedG = md['redg']\n",
    "\n",
    "test_uv = find_zen_file(2458099.45361)\n",
    "hd = io.HERAData(test_uv)\n",
    "\n",
    "b2_freq_start = 150.3*1e6 # MHz\n",
    "b2_freq_stop = 167.8*1e6 # MHz\n",
    "band2_chans = np.where(np.logical_and(hd.freqs >= b2_freq_start, hd.freqs <= b2_freq_stop))[0]\n",
    "\n",
    "with open(os.path.join(os.path.dirname(xd_dir_path), 'jd_lst_map_idr2.pkl'), 'rb') as f:\n",
    "    jd_lst_map_idr2 = pickle.load(f)\n",
    "\n",
    "jd_fracs = [int(str(round(math.modf(jdr)[0], 6))[2:7]) for jdr in jd_label_dict.keys()]\n",
    "jd_int = int(list(jd_label_dict.keys())[0])\n",
    "jd_lst_map_idr2 = jd_lst_map_idr2.loc[jd_int][jd_lst_map_idr2.loc[int(jd_int)].\\\n",
    "                      index.get_level_values('JD_frac').isin(jd_fracs)]\n",
    "\n",
    "ref_lsts = np.concatenate(jd_lst_map_idr2['LASTs'].values).ravel()"
   ]
  },
  {
   "cell_type": "code",
   "execution_count": null,
   "metadata": {},
   "outputs": [],
   "source": [
    "jdt = float('.'.join(os.path.basename(test_uv).split('.')[1:3]))\n",
    "lstt = hd.lsts[0]"
   ]
  },
  {
   "cell_type": "code",
   "execution_count": null,
   "metadata": {},
   "outputs": [],
   "source": [
    "# Reading the test data\n",
    "data, flags, _ = hd.read()"
   ]
  },
  {
   "cell_type": "code",
   "execution_count": null,
   "metadata": {},
   "outputs": [],
   "source": [
    "resolution = np.median(np.ediff1d(ref_lsts))\n",
    "\n",
    "if lstt >= ref_lsts[0] - resolution/2 and lstt <= ref_lsts[-1] + resolution/2:\n",
    "    lst_idx = find_nearest(ref_lsts, lstt)[1]\n",
    "    day_idx = idr2_jdsx.index(int(jdt))\n",
    "\n",
    "    flags_jdt = tot_flags[day_idx, :, lst_idx:lst_idx+60, :]\n",
    "\n",
    "    bl_dict = [(i, j, 'ee') for i, j in RedG[:, 1:]]\n",
    "\n",
    "    for bl in flags.keys():\n",
    "        if bl in bl_dict:\n",
    "            bl_idx = bl_dict.index(bl)\n",
    "            flags[bl][:, band2_chans] += flags_jdt[..., bl_idx].transpose()"
   ]
  },
  {
   "cell_type": "markdown",
   "metadata": {},
   "source": [
    "## LST-Bin w/ & w/o xd_rel_cal flags"
   ]
  },
  {
   "cell_type": "code",
   "execution_count": null,
   "metadata": {},
   "outputs": [],
   "source": [
    "binned_dir = '/lustre/aoc/projects/hera/H1C_IDR2/IDR2_2/LSTBIN/one_group/grp1/'\n",
    "lstb_f = 'zen.grp1.of1.LST.1.40949.HH.OCRSL.uvh5'\n",
    "xd_binned_dir = '/lustre/aoc/projects/hera/mmolnar/LST_bin/binned_files/xdrc_flg_binned'\n",
    "lstbx_f = 'zen.grp1.of1.LST.1.40949.HH.OCRSLX.uvh5' "
   ]
  },
  {
   "cell_type": "code",
   "execution_count": null,
   "metadata": {},
   "outputs": [],
   "source": [
    "hd_lstb = HERAData(os.path.join(binned_dir, lstb_f))\n",
    "hd_lstbx = HERAData(os.path.join(xd_binned_dir, lstbx_f))"
   ]
  },
  {
   "cell_type": "code",
   "execution_count": null,
   "metadata": {},
   "outputs": [],
   "source": [
    "data, flags, nsamples = hd_lstb.read(freq_chans=band2_chans, polarizations=['ee'])\n",
    "datax, flagsx, nsamplesx = hd_lstbx.read(freq_chans=band2_chans, polarizations=['ee'])"
   ]
  },
  {
   "cell_type": "code",
   "execution_count": null,
   "metadata": {},
   "outputs": [],
   "source": [
    "# for key in nsamples.keys():\n",
    "#     eq_ns = (nsamples[key] == nsamplesx[key]).all()\n",
    "#     if not eq_ns:\n",
    "#         print(key)"
   ]
  },
  {
   "cell_type": "code",
   "execution_count": null,
   "metadata": {},
   "outputs": [],
   "source": [
    "hd_lstb, redg, cmdata = group_data(os.path.join(binned_dir, lstb_f), 'ee', chans=band2_chans, \\\n",
    "                            tints=None, bad_ants=union_bad_ants(idr2_jdsx))\n",
    "data = cmdata.data\n",
    "flags = cmdata.mask\n",
    "\n",
    "hd_lstb, redg, cmdatax = group_data(os.path.join(xd_binned_dir, lstbx_f), 'ee', chans=band2_chans, \\\n",
    "                            tints=None, bad_ants=union_bad_ants(idr2_jdsx))\n",
    "datax = cmdatax.data\n",
    "flagsx = cmdatax.mask"
   ]
  },
  {
   "cell_type": "code",
   "execution_count": null,
   "metadata": {},
   "outputs": [],
   "source": [
    "print('{:,.0f}'.format(flags.sum()))"
   ]
  },
  {
   "cell_type": "code",
   "execution_count": null,
   "metadata": {},
   "outputs": [],
   "source": [
    "print('{:,.0f}'.format(flagsx.sum()))"
   ]
  },
  {
   "cell_type": "code",
   "execution_count": null,
   "metadata": {},
   "outputs": [],
   "source": [
    "nsamples_arr = np.empty_like(data, dtype=int)\n",
    "for chan in range(data.shape[0]):\n",
    "    nsamples_arr[chan, ...] = np.hstack([nsamples[(*bl_row[1:], 'ee')][:, chan, \\\n",
    "                                         np.newaxis] for bl_row in redg])\n",
    "    \n",
    "nsamples_arrx = np.empty_like(data, dtype=int)\n",
    "for chan in range(data.shape[0]):\n",
    "    nsamples_arrx[chan, ...] = np.hstack([nsamplesx[(*bl_row[1:], 'ee')][:, chan, \\\n",
    "                                         np.newaxis] for bl_row in redg])"
   ]
  },
  {
   "cell_type": "code",
   "execution_count": null,
   "metadata": {},
   "outputs": [],
   "source": [
    "print('{:,.0f}'.format(nsamples_arr.sum()))"
   ]
  },
  {
   "cell_type": "code",
   "execution_count": null,
   "metadata": {},
   "outputs": [],
   "source": [
    "print('{:,.0f}'.format(nsamples_arrx.sum()))"
   ]
  }
 ],
 "metadata": {
  "kernelspec": {
   "display_name": "lst_bin",
   "language": "python",
   "name": "lst_bin"
  },
  "language_info": {
   "codemirror_mode": {
    "name": "ipython",
    "version": 3
   },
   "file_extension": ".py",
   "mimetype": "text/x-python",
   "name": "python",
   "nbconvert_exporter": "python",
   "pygments_lexer": "ipython3",
   "version": "3.7.10"
  }
 },
 "nbformat": 4,
 "nbformat_minor": 4
}
