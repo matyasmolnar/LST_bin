{
 "cells": [
  {
   "cell_type": "code",
   "execution_count": null,
   "metadata": {},
   "outputs": [],
   "source": [
    "# # Test LST-bin run\n",
    "\n",
    "# %run /lustre/aoc/projects/hera/mmolnar/LST_bin/hera_cal/scripts/lstbin_run.py \\\n",
    "# --dlst 0.001565970008 --file_ext grp1.of1.{type}.{time:7.5f}.HH.OCRSL.uvh5 \\\n",
    "# --outdir /lustre/aoc/projects/hera/mmolnar/LST_bin/binned_files \\\n",
    "# --ntimes_per_file 60 --rephase --sig_clip --sigma 4 --output_file_select 0 \\\n",
    "# --min_N 0 --lst_start 1.2 --vis_units Jy \\\n",
    "# --Nbls_to_load 150 --fixed_lst_start --input_cals \\\n",
    "# '/lustre/aoc/projects/hera/H1C_IDR2/IDR2_2/2458098/zen.2458098.*.HH.smooth_abs.calfits' \\\n",
    "# '/lustre/aoc/projects/hera/H1C_IDR2/IDR2_2/2458099/zen.2458099.*.HH.smooth_abs.calfits' \\\n",
    "# --overwrite \\\n",
    "# '/lustre/aoc/projects/hera/H1C_IDR2/IDR2_2/2458098/zen.2458098.*.HH.uvh5' \\\n",
    "# '/lustre/aoc/projects/hera/H1C_IDR2/IDR2_2/2458099/zen.2458099.*.HH.uvh5'"
   ]
  },
  {
   "cell_type": "markdown",
   "metadata": {},
   "source": [
    "## Reading MAD-Clip flags"
   ]
  },
  {
   "cell_type": "code",
   "execution_count": null,
   "metadata": {},
   "outputs": [],
   "source": [
    "import lzma\n",
    "import os\n",
    "import pickle\n",
    "import sys\n",
    "from collections import OrderedDict as odict\n",
    "\n",
    "import pandas as pd"
   ]
  },
  {
   "cell_type": "code",
   "execution_count": null,
   "metadata": {},
   "outputs": [],
   "source": [
    "sys.path.insert(1, '/lustre/aoc/projects/hera/mmolnar/simpleredcal')\n",
    "\n",
    "from align_utils import idr2_jdsx"
   ]
  },
  {
   "cell_type": "code",
   "execution_count": null,
   "metadata": {},
   "outputs": [],
   "source": [
    "clipped_flags = '/lustre/aoc/projects/hera/mmolnar/LST_bin/binned_files/zen.grp1.of1.LST.1.31552.bad_jds.pkl'\n",
    "with open(clipped_flags, \"rb\") as f:\n",
    "    clip_f = pickle.load(f)"
   ]
  },
  {
   "cell_type": "code",
   "execution_count": null,
   "metadata": {},
   "outputs": [],
   "source": [
    "# Creating a odict of flags\n",
    "clip_f_copy = {k: v for k, v in clip_f.items()}\n",
    "new_flags = odict()\n",
    "for k, v in clip_f_copy.items():\n",
    "    bl_flags = odict()\n",
    "    for t, f in v.items():\n",
    "        # De-bin data\n",
    "        bl_flags[t*2] = f[::2]\n",
    "        bl_flags[t*2 + 1] = f[1::2]\n",
    "    new_flags[k] = bl_flags"
   ]
  },
  {
   "cell_type": "code",
   "execution_count": null,
   "metadata": {},
   "outputs": [],
   "source": [
    "new_flags_fn = clipped_flags.replace('zen.grp1.of1.LST', 'clipped_flags').replace('bad_jds.', '')\n",
    "\n",
    "if not os.path.exists(new_flags_fn):\n",
    "    with open(new_flags_fn, 'wb') as f:\n",
    "        pickle.dump(new_flags, f, protocol=pickle.HIGHEST_PROTOCOL)"
   ]
  },
  {
   "cell_type": "code",
   "execution_count": null,
   "metadata": {},
   "outputs": [],
   "source": [
    "# Compressing the pickled file using the \n",
    "# Lempel–Ziv–Markov chain algorithm (LZMA) algorithm\n",
    "\n",
    "new_flags_zx_fn = new_flags_fn.replace('pkl', 'xz')\n",
    "\n",
    "if not os.path.exists(new_flags_zx_fn):\n",
    "    with lzma.open(new_flags_zx_fn, 'wb') as f:\n",
    "        pickle.dump(new_flags, f, protocol=pickle.HIGHEST_PROTOCOL)"
   ]
  },
  {
   "cell_type": "code",
   "execution_count": null,
   "metadata": {},
   "outputs": [],
   "source": [
    "# # Reading back LZMA file\n",
    "# with lzma.open(new_flags_zx_fn, 'rb') as file:\n",
    "#     raw_data = file.read()\n",
    "#     xz_flags = pickle.loads(raw_data)"
   ]
  },
  {
   "cell_type": "markdown",
   "metadata": {},
   "source": [
    "## Reading LST-Binned file"
   ]
  },
  {
   "cell_type": "code",
   "execution_count": null,
   "metadata": {},
   "outputs": [],
   "source": [
    "import numpy as np\n",
    "\n",
    "from hera_cal.io import HERAData\n",
    "\n",
    "from red_likelihood import group_data\n",
    "from xd_utils import union_bad_ants"
   ]
  },
  {
   "cell_type": "code",
   "execution_count": null,
   "metadata": {},
   "outputs": [],
   "source": [
    "test_uv = '/lustre/aoc/projects/hera/mmolnar/LST_bin/binned_files/zen.grp1.of1.LST.1.31552.HH.OCRSL.uvh5'\n",
    "hd = HERAData(test_uv)"
   ]
  },
  {
   "cell_type": "code",
   "execution_count": null,
   "metadata": {},
   "outputs": [],
   "source": [
    "data, flags, _ = hd.read(freq_chans=None, polarizations=['ee'])"
   ]
  },
  {
   "cell_type": "code",
   "execution_count": null,
   "metadata": {},
   "outputs": [],
   "source": [
    "_, redg, cdata = group_data(test_uv, 'ee', chans=None, tints=None, bad_ants=union_bad_ants(idr2_jdsx))\n",
    "flags_binned = cdata.mask"
   ]
  }
 ],
 "metadata": {
  "kernelspec": {
   "display_name": "lst_bin",
   "language": "python",
   "name": "lst_bin"
  },
  "language_info": {
   "codemirror_mode": {
    "name": "ipython",
    "version": 3
   },
   "file_extension": ".py",
   "mimetype": "text/x-python",
   "name": "python",
   "nbconvert_exporter": "python",
   "pygments_lexer": "ipython3",
   "version": "3.7.9"
  }
 },
 "nbformat": 4,
 "nbformat_minor": 4
}
