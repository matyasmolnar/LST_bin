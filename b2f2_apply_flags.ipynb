{
 "cells": [
  {
   "cell_type": "code",
   "execution_count": null,
   "metadata": {},
   "outputs": [],
   "source": [
    "import copy\n",
    "import itertools\n",
    "import os\n",
    "import sys\n",
    "\n",
    "import numpy as np\n",
    "\n",
    "from hera_cal.io import HERACal, HERAData "
   ]
  },
  {
   "cell_type": "code",
   "execution_count": null,
   "metadata": {},
   "outputs": [],
   "source": [
    "simpleredcal_path = '/lustre/aoc/projects/hera/mmolnar/simpleredcal'\n",
    "sys.path.insert(1, simpleredcal_path)\n",
    "\n",
    "from align_utils import idr2_jdsx"
   ]
  },
  {
   "cell_type": "code",
   "execution_count": null,
   "metadata": {},
   "outputs": [],
   "source": [
    "jd_label_dict = np.load(os.path.join(simpleredcal_path, 'b2f2_jd_dict.npz'), \\\n",
    "                        allow_pickle=True)['jd_dict'].item()\n",
    "\n",
    "h1c_idr2_dir = '/lustre/aoc/projects/hera/H1C_IDR2/IDR2_2/'\n",
    "new_idr2_dir = '/lustre/aoc/projects/hera/mmolnar/LST_bin/H1C_IDR2'"
   ]
  },
  {
   "cell_type": "code",
   "execution_count": null,
   "metadata": {},
   "outputs": [],
   "source": [
    "# # Creating new folders\n",
    "# for jd in idr2_jdsx:\n",
    "#     if not os.path.exists(os.path.join(new_idr2_dir, str(jd))):\n",
    "#         os.mkdir(os.path.join(new_idr2_dir, str(jd)))"
   ]
  },
  {
   "cell_type": "code",
   "execution_count": null,
   "metadata": {},
   "outputs": [],
   "source": [
    "cal_jds = list(set(itertools.chain(*list(itertools.chain(*jd_label_dict.values())))))\n",
    "cal_jds.extend([str(i) for i in jd_label_dict.keys()])\n",
    "cal_jds = sorted(cal_jds)"
   ]
  },
  {
   "cell_type": "code",
   "execution_count": null,
   "metadata": {},
   "outputs": [],
   "source": [
    "# # Copying smooth_abs.calfits files\n",
    "# from shutil import copy2\n",
    "\n",
    "# for cal_jd in cal_jds:\n",
    "#     src = os.path.join(h1c_idr2_dir, str(int(float(cal_jd))), 'zen.{}.HH.smooth_abs.calfits'.format(cal_jd))\n",
    "#     dst = os.path.join(new_idr2_dir, str(int(float(cal_jd))), 'zen.{}.HH.smooth_abs.calfits'.format(cal_jd))\n",
    "#     if not os.path.exists(dst):\n",
    "#         copy2(src, dst)"
   ]
  },
  {
   "cell_type": "code",
   "execution_count": null,
   "metadata": {},
   "outputs": [],
   "source": [
    "tot_flags_fn = 'b2f2_tot_flags.npz'\n",
    "tot_flags = np.load(os.path.join(simpleredcal_path, tot_flags_fn))['flags']"
   ]
  },
  {
   "cell_type": "code",
   "execution_count": null,
   "metadata": {},
   "outputs": [],
   "source": [
    "modz_fn = 'b2f2_mz_flags.npz'\n",
    "modz_flags = np.load(os.path.join(simpleredcal_path, modz_fn))['simga5']"
   ]
  },
  {
   "cell_type": "code",
   "execution_count": null,
   "metadata": {},
   "outputs": [],
   "source": [
    "tot_flags.shape"
   ]
  },
  {
   "cell_type": "code",
   "execution_count": null,
   "metadata": {},
   "outputs": [],
   "source": [
    "# Band 2 Frequencies\n",
    "from red_utils import calfits_to_flags, find_zen_file\n",
    "jdt_ref = 2458098.43869\n",
    "hd = HERAData(find_zen_file(jdt_ref))\n",
    "b2_freq_start = 150.3*1e6 # MHz\n",
    "b2_freq_stop = 167.8*1e6 # MHz\n",
    "band2_chans = np.where(np.logical_and(hd.freqs >= b2_freq_start, hd.freqs <= b2_freq_stop))[0]\n",
    "\n",
    "calf = calfits_to_flags(jdt_ref, 'smooth_abs', pol='ee', add_bad_ants=None)[band2_chans, ...]"
   ]
  },
  {
   "cell_type": "code",
   "execution_count": null,
   "metadata": {},
   "outputs": [],
   "source": [
    "jdt_idx = list(jd_label_dict.keys()).index(jdt_ref)\n",
    "tot_flags[0, :, jdt_idx*60:(jdt_idx+1)*60, :].sum()"
   ]
  },
  {
   "cell_type": "code",
   "execution_count": null,
   "metadata": {},
   "outputs": [],
   "source": [
    "calf.sum()"
   ]
  },
  {
   "cell_type": "code",
   "execution_count": null,
   "metadata": {},
   "outputs": [],
   "source": [
    "cal_jd = cal_jds[0]\n",
    "cal_fn = os.path.join(h1c_idr2_dir, str(int(float(cal_jd))), 'zen.{}.HH.smooth_abs.calfits'.format(cal_jd))\n",
    "jd_idx = idr2_jdsx.index(int(float(cal_jd)))"
   ]
  },
  {
   "cell_type": "code",
   "execution_count": null,
   "metadata": {},
   "outputs": [],
   "source": [
    "hc = HERACal(cal_fn)\n",
    "sc_gains, sc_flags, sc_quals, sc_tot_qual = hc.read()"
   ]
  },
  {
   "cell_type": "code",
   "execution_count": null,
   "metadata": {},
   "outputs": [],
   "source": [
    "sc_flags"
   ]
  },
  {
   "cell_type": "code",
   "execution_count": null,
   "metadata": {},
   "outputs": [],
   "source": [
    "new_flags = copy.deepcopy(sc_flags)"
   ]
  }
 ],
 "metadata": {
  "kernelspec": {
   "display_name": "xd_flags",
   "language": "python",
   "name": "xd_flags"
  },
  "language_info": {
   "codemirror_mode": {
    "name": "ipython",
    "version": 3
   },
   "file_extension": ".py",
   "mimetype": "text/x-python",
   "name": "python",
   "nbconvert_exporter": "python",
   "pygments_lexer": "ipython3",
   "version": "3.7.10"
  }
 },
 "nbformat": 4,
 "nbformat_minor": 4
}
